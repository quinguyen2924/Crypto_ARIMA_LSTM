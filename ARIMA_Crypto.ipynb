{
  "nbformat": 4,
  "nbformat_minor": 0,
  "metadata": {
    "colab": {
      "provenance": []
    },
    "kernelspec": {
      "name": "python3",
      "display_name": "Python 3"
    },
    "language_info": {
      "name": "python"
    }
  },
  "cells": [
    {
      "cell_type": "markdown",
      "metadata": {
        "id": "69e341f7"
      },
      "source": [
        "# ARIMA\n",
        "\n",
        "Xây dựng mô hình ARIMA để dự đoán giá Bitcoin sử dụng dữ liệu từ tệp \"/bitcoin_data_max_1d.csv\". Tối ưu hóa các tham số p, d, q của mô hình và trực quan hóa kết quả để so sánh với mô hình LSTM sau này."
      ]
    },
    {
      "cell_type": "markdown",
      "metadata": {
        "id": "dc3ff084"
      },
      "source": [
        "## Thu thập dữ liệu\n",
        "Tải dữ liệu giá Bitcoin từ tệp `/bitcoin_data_max_1d.csv` vào DataFrame.\n"
      ]
    },
    {
      "cell_type": "code",
      "metadata": {
        "colab": {
          "base_uri": "https://localhost:8080/",
          "height": 206
        },
        "id": "be2ef4c5",
        "outputId": "82753ed4-2808-4f0a-9565-0a99b4ee41da"
      },
      "source": [
        "import pandas as pd\n",
        "\n",
        "df = pd.read_csv('/bitcoin_data_max_1d.csv')\n",
        "display(df.head())"
      ],
      "execution_count": null,
      "outputs": [
        {
          "output_type": "display_data",
          "data": {
            "text/plain": [
              "                        Date         Open         High          Low  \\\n",
              "0  2020-01-01 00:00:00+00:00  7194.892090  7254.330566  7174.944336   \n",
              "1  2020-01-02 00:00:00+00:00  7202.551270  7212.155273  6935.270020   \n",
              "2  2020-01-03 00:00:00+00:00  6984.428711  7413.715332  6914.996094   \n",
              "3  2020-01-04 00:00:00+00:00  7345.375488  7427.385742  7309.514160   \n",
              "4  2020-01-05 00:00:00+00:00  7410.451660  7544.497070  7400.535645   \n",
              "\n",
              "         Close       Volume  \n",
              "0  7200.174316  18565664997  \n",
              "1  6985.470215  20802083465  \n",
              "2  7344.884277  28111481032  \n",
              "3  7410.656738  18444271275  \n",
              "4  7411.317383  19725074095  "
            ],
            "text/html": [
              "\n",
              "  <div id=\"df-3b7062c1-cded-4844-b67a-31cbf80c25c2\" class=\"colab-df-container\">\n",
              "    <div>\n",
              "<style scoped>\n",
              "    .dataframe tbody tr th:only-of-type {\n",
              "        vertical-align: middle;\n",
              "    }\n",
              "\n",
              "    .dataframe tbody tr th {\n",
              "        vertical-align: top;\n",
              "    }\n",
              "\n",
              "    .dataframe thead th {\n",
              "        text-align: right;\n",
              "    }\n",
              "</style>\n",
              "<table border=\"1\" class=\"dataframe\">\n",
              "  <thead>\n",
              "    <tr style=\"text-align: right;\">\n",
              "      <th></th>\n",
              "      <th>Date</th>\n",
              "      <th>Open</th>\n",
              "      <th>High</th>\n",
              "      <th>Low</th>\n",
              "      <th>Close</th>\n",
              "      <th>Volume</th>\n",
              "    </tr>\n",
              "  </thead>\n",
              "  <tbody>\n",
              "    <tr>\n",
              "      <th>0</th>\n",
              "      <td>2020-01-01 00:00:00+00:00</td>\n",
              "      <td>7194.892090</td>\n",
              "      <td>7254.330566</td>\n",
              "      <td>7174.944336</td>\n",
              "      <td>7200.174316</td>\n",
              "      <td>18565664997</td>\n",
              "    </tr>\n",
              "    <tr>\n",
              "      <th>1</th>\n",
              "      <td>2020-01-02 00:00:00+00:00</td>\n",
              "      <td>7202.551270</td>\n",
              "      <td>7212.155273</td>\n",
              "      <td>6935.270020</td>\n",
              "      <td>6985.470215</td>\n",
              "      <td>20802083465</td>\n",
              "    </tr>\n",
              "    <tr>\n",
              "      <th>2</th>\n",
              "      <td>2020-01-03 00:00:00+00:00</td>\n",
              "      <td>6984.428711</td>\n",
              "      <td>7413.715332</td>\n",
              "      <td>6914.996094</td>\n",
              "      <td>7344.884277</td>\n",
              "      <td>28111481032</td>\n",
              "    </tr>\n",
              "    <tr>\n",
              "      <th>3</th>\n",
              "      <td>2020-01-04 00:00:00+00:00</td>\n",
              "      <td>7345.375488</td>\n",
              "      <td>7427.385742</td>\n",
              "      <td>7309.514160</td>\n",
              "      <td>7410.656738</td>\n",
              "      <td>18444271275</td>\n",
              "    </tr>\n",
              "    <tr>\n",
              "      <th>4</th>\n",
              "      <td>2020-01-05 00:00:00+00:00</td>\n",
              "      <td>7410.451660</td>\n",
              "      <td>7544.497070</td>\n",
              "      <td>7400.535645</td>\n",
              "      <td>7411.317383</td>\n",
              "      <td>19725074095</td>\n",
              "    </tr>\n",
              "  </tbody>\n",
              "</table>\n",
              "</div>\n",
              "    <div class=\"colab-df-buttons\">\n",
              "\n",
              "  <div class=\"colab-df-container\">\n",
              "    <button class=\"colab-df-convert\" onclick=\"convertToInteractive('df-3b7062c1-cded-4844-b67a-31cbf80c25c2')\"\n",
              "            title=\"Convert this dataframe to an interactive table.\"\n",
              "            style=\"display:none;\">\n",
              "\n",
              "  <svg xmlns=\"http://www.w3.org/2000/svg\" height=\"24px\" viewBox=\"0 -960 960 960\">\n",
              "    <path d=\"M120-120v-720h720v720H120Zm60-500h600v-160H180v160Zm220 220h160v-160H400v160Zm0 220h160v-160H400v160ZM180-400h160v-160H180v160Zm440 0h160v-160H620v160ZM180-180h160v-160H180v160Zm440 0h160v-160H620v160Z\"/>\n",
              "  </svg>\n",
              "    </button>\n",
              "\n",
              "  <style>\n",
              "    .colab-df-container {\n",
              "      display:flex;\n",
              "      gap: 12px;\n",
              "    }\n",
              "\n",
              "    .colab-df-convert {\n",
              "      background-color: #E8F0FE;\n",
              "      border: none;\n",
              "      border-radius: 50%;\n",
              "      cursor: pointer;\n",
              "      display: none;\n",
              "      fill: #1967D2;\n",
              "      height: 32px;\n",
              "      padding: 0 0 0 0;\n",
              "      width: 32px;\n",
              "    }\n",
              "\n",
              "    .colab-df-convert:hover {\n",
              "      background-color: #E2EBFA;\n",
              "      box-shadow: 0px 1px 2px rgba(60, 64, 67, 0.3), 0px 1px 3px 1px rgba(60, 64, 67, 0.15);\n",
              "      fill: #174EA6;\n",
              "    }\n",
              "\n",
              "    .colab-df-buttons div {\n",
              "      margin-bottom: 4px;\n",
              "    }\n",
              "\n",
              "    [theme=dark] .colab-df-convert {\n",
              "      background-color: #3B4455;\n",
              "      fill: #D2E3FC;\n",
              "    }\n",
              "\n",
              "    [theme=dark] .colab-df-convert:hover {\n",
              "      background-color: #434B5C;\n",
              "      box-shadow: 0px 1px 3px 1px rgba(0, 0, 0, 0.15);\n",
              "      filter: drop-shadow(0px 1px 2px rgba(0, 0, 0, 0.3));\n",
              "      fill: #FFFFFF;\n",
              "    }\n",
              "  </style>\n",
              "\n",
              "    <script>\n",
              "      const buttonEl =\n",
              "        document.querySelector('#df-3b7062c1-cded-4844-b67a-31cbf80c25c2 button.colab-df-convert');\n",
              "      buttonEl.style.display =\n",
              "        google.colab.kernel.accessAllowed ? 'block' : 'none';\n",
              "\n",
              "      async function convertToInteractive(key) {\n",
              "        const element = document.querySelector('#df-3b7062c1-cded-4844-b67a-31cbf80c25c2');\n",
              "        const dataTable =\n",
              "          await google.colab.kernel.invokeFunction('convertToInteractive',\n",
              "                                                    [key], {});\n",
              "        if (!dataTable) return;\n",
              "\n",
              "        const docLinkHtml = 'Like what you see? Visit the ' +\n",
              "          '<a target=\"_blank\" href=https://colab.research.google.com/notebooks/data_table.ipynb>data table notebook</a>'\n",
              "          + ' to learn more about interactive tables.';\n",
              "        element.innerHTML = '';\n",
              "        dataTable['output_type'] = 'display_data';\n",
              "        await google.colab.output.renderOutput(dataTable, element);\n",
              "        const docLink = document.createElement('div');\n",
              "        docLink.innerHTML = docLinkHtml;\n",
              "        element.appendChild(docLink);\n",
              "      }\n",
              "    </script>\n",
              "  </div>\n",
              "\n",
              "\n",
              "    <div id=\"df-ee3f9ad9-4fd3-4db4-b291-5ef1b4886e35\">\n",
              "      <button class=\"colab-df-quickchart\" onclick=\"quickchart('df-ee3f9ad9-4fd3-4db4-b291-5ef1b4886e35')\"\n",
              "                title=\"Suggest charts\"\n",
              "                style=\"display:none;\">\n",
              "\n",
              "<svg xmlns=\"http://www.w3.org/2000/svg\" height=\"24px\"viewBox=\"0 0 24 24\"\n",
              "     width=\"24px\">\n",
              "    <g>\n",
              "        <path d=\"M19 3H5c-1.1 0-2 .9-2 2v14c0 1.1.9 2 2 2h14c1.1 0 2-.9 2-2V5c0-1.1-.9-2-2-2zM9 17H7v-7h2v7zm4 0h-2V7h2v10zm4 0h-2v-4h2v4z\"/>\n",
              "    </g>\n",
              "</svg>\n",
              "      </button>\n",
              "\n",
              "<style>\n",
              "  .colab-df-quickchart {\n",
              "      --bg-color: #E8F0FE;\n",
              "      --fill-color: #1967D2;\n",
              "      --hover-bg-color: #E2EBFA;\n",
              "      --hover-fill-color: #174EA6;\n",
              "      --disabled-fill-color: #AAA;\n",
              "      --disabled-bg-color: #DDD;\n",
              "  }\n",
              "\n",
              "  [theme=dark] .colab-df-quickchart {\n",
              "      --bg-color: #3B4455;\n",
              "      --fill-color: #D2E3FC;\n",
              "      --hover-bg-color: #434B5C;\n",
              "      --hover-fill-color: #FFFFFF;\n",
              "      --disabled-bg-color: #3B4455;\n",
              "      --disabled-fill-color: #666;\n",
              "  }\n",
              "\n",
              "  .colab-df-quickchart {\n",
              "    background-color: var(--bg-color);\n",
              "    border: none;\n",
              "    border-radius: 50%;\n",
              "    cursor: pointer;\n",
              "    display: none;\n",
              "    fill: var(--fill-color);\n",
              "    height: 32px;\n",
              "    padding: 0;\n",
              "    width: 32px;\n",
              "  }\n",
              "\n",
              "  .colab-df-quickchart:hover {\n",
              "    background-color: var(--hover-bg-color);\n",
              "    box-shadow: 0 1px 2px rgba(60, 64, 67, 0.3), 0 1px 3px 1px rgba(60, 64, 67, 0.15);\n",
              "    fill: var(--button-hover-fill-color);\n",
              "  }\n",
              "\n",
              "  .colab-df-quickchart-complete:disabled,\n",
              "  .colab-df-quickchart-complete:disabled:hover {\n",
              "    background-color: var(--disabled-bg-color);\n",
              "    fill: var(--disabled-fill-color);\n",
              "    box-shadow: none;\n",
              "  }\n",
              "\n",
              "  .colab-df-spinner {\n",
              "    border: 2px solid var(--fill-color);\n",
              "    border-color: transparent;\n",
              "    border-bottom-color: var(--fill-color);\n",
              "    animation:\n",
              "      spin 1s steps(1) infinite;\n",
              "  }\n",
              "\n",
              "  @keyframes spin {\n",
              "    0% {\n",
              "      border-color: transparent;\n",
              "      border-bottom-color: var(--fill-color);\n",
              "      border-left-color: var(--fill-color);\n",
              "    }\n",
              "    20% {\n",
              "      border-color: transparent;\n",
              "      border-left-color: var(--fill-color);\n",
              "      border-top-color: var(--fill-color);\n",
              "    }\n",
              "    30% {\n",
              "      border-color: transparent;\n",
              "      border-left-color: var(--fill-color);\n",
              "      border-top-color: var(--fill-color);\n",
              "      border-right-color: var(--fill-color);\n",
              "    }\n",
              "    40% {\n",
              "      border-color: transparent;\n",
              "      border-right-color: var(--fill-color);\n",
              "      border-top-color: var(--fill-color);\n",
              "    }\n",
              "    60% {\n",
              "      border-color: transparent;\n",
              "      border-right-color: var(--fill-color);\n",
              "    }\n",
              "    80% {\n",
              "      border-color: transparent;\n",
              "      border-right-color: var(--fill-color);\n",
              "      border-bottom-color: var(--fill-color);\n",
              "    }\n",
              "    90% {\n",
              "      border-color: transparent;\n",
              "      border-bottom-color: var(--fill-color);\n",
              "    }\n",
              "  }\n",
              "</style>\n",
              "\n",
              "      <script>\n",
              "        async function quickchart(key) {\n",
              "          const quickchartButtonEl =\n",
              "            document.querySelector('#' + key + ' button');\n",
              "          quickchartButtonEl.disabled = true;  // To prevent multiple clicks.\n",
              "          quickchartButtonEl.classList.add('colab-df-spinner');\n",
              "          try {\n",
              "            const charts = await google.colab.kernel.invokeFunction(\n",
              "                'suggestCharts', [key], {});\n",
              "          } catch (error) {\n",
              "            console.error('Error during call to suggestCharts:', error);\n",
              "          }\n",
              "          quickchartButtonEl.classList.remove('colab-df-spinner');\n",
              "          quickchartButtonEl.classList.add('colab-df-quickchart-complete');\n",
              "        }\n",
              "        (() => {\n",
              "          let quickchartButtonEl =\n",
              "            document.querySelector('#df-ee3f9ad9-4fd3-4db4-b291-5ef1b4886e35 button');\n",
              "          quickchartButtonEl.style.display =\n",
              "            google.colab.kernel.accessAllowed ? 'block' : 'none';\n",
              "        })();\n",
              "      </script>\n",
              "    </div>\n",
              "\n",
              "    </div>\n",
              "  </div>\n"
            ],
            "application/vnd.google.colaboratory.intrinsic+json": {
              "type": "dataframe",
              "summary": "{\n  \"name\": \"display(df\",\n  \"rows\": 5,\n  \"fields\": [\n    {\n      \"column\": \"Date\",\n      \"properties\": {\n        \"dtype\": \"object\",\n        \"num_unique_values\": 5,\n        \"samples\": [\n          \"2020-01-02 00:00:00+00:00\",\n          \"2020-01-05 00:00:00+00:00\",\n          \"2020-01-03 00:00:00+00:00\"\n        ],\n        \"semantic_type\": \"\",\n        \"description\": \"\"\n      }\n    },\n    {\n      \"column\": \"Open\",\n      \"properties\": {\n        \"dtype\": \"number\",\n        \"std\": 164.41966068350436,\n        \"min\": 6984.4287109375,\n        \"max\": 7410.45166015625,\n        \"num_unique_values\": 5,\n        \"samples\": [\n          7202.55126953125,\n          7410.45166015625,\n          6984.4287109375\n        ],\n        \"semantic_type\": \"\",\n        \"description\": \"\"\n      }\n    },\n    {\n      \"column\": \"High\",\n      \"properties\": {\n        \"dtype\": \"number\",\n        \"std\": 135.965885594487,\n        \"min\": 7212.1552734375,\n        \"max\": 7544.4970703125,\n        \"num_unique_values\": 5,\n        \"samples\": [\n          7212.1552734375,\n          7544.4970703125,\n          7413.71533203125\n        ],\n        \"semantic_type\": \"\",\n        \"description\": \"\"\n      }\n    },\n    {\n      \"column\": \"Low\",\n      \"properties\": {\n        \"dtype\": \"number\",\n        \"std\": 218.01802953442427,\n        \"min\": 6914.99609375,\n        \"max\": 7400.53564453125,\n        \"num_unique_values\": 5,\n        \"samples\": [\n          6935.27001953125,\n          7400.53564453125,\n          6914.99609375\n        ],\n        \"semantic_type\": \"\",\n        \"description\": \"\"\n      }\n    },\n    {\n      \"column\": \"Close\",\n      \"properties\": {\n        \"dtype\": \"number\",\n        \"std\": 181.10366334035223,\n        \"min\": 6985.47021484375,\n        \"max\": 7411.3173828125,\n        \"num_unique_values\": 5,\n        \"samples\": [\n          6985.47021484375,\n          7411.3173828125,\n          7344.88427734375\n        ],\n        \"semantic_type\": \"\",\n        \"description\": \"\"\n      }\n    },\n    {\n      \"column\": \"Volume\",\n      \"properties\": {\n        \"dtype\": \"number\",\n        \"std\": 4019060084,\n        \"min\": 18444271275,\n        \"max\": 28111481032,\n        \"num_unique_values\": 5,\n        \"samples\": [\n          20802083465,\n          19725074095,\n          28111481032\n        ],\n        \"semantic_type\": \"\",\n        \"description\": \"\"\n      }\n    }\n  ]\n}"
            }
          },
          "metadata": {}
        }
      ]
    },
    {
      "cell_type": "markdown",
      "metadata": {
        "id": "45eac12b"
      },
      "source": [
        "## Tiền xử lý dữ liệu\n",
        "\n",
        "### Subtask:\n",
        "Làm sạch dữ liệu (xử lý giá trị thiếu, định dạng lại cột ngày tháng), tạo chuỗi thời gian từ dữ liệu giá, kiểm tra tính dừng của chuỗi thời gian và thực hiện sai phân nếu cần thiết.\n"
      ]
    },
    {
      "cell_type": "code",
      "metadata": {
        "colab": {
          "base_uri": "https://localhost:8080/"
        },
        "id": "3e36a270",
        "outputId": "5adde884-ace6-48fb-a2b4-5a39fc56790e"
      },
      "source": [
        "print(\"Thiếu giá trị trước khi làm sạch dữ liệu:\")\n",
        "print(df.isnull().sum())\n",
        "\n",
        "df['Date'] = pd.to_datetime(df['Date'])\n",
        "df = df.set_index('Date')\n",
        "\n",
        "ts_close = df['Close']\n",
        "\n",
        "from statsmodels.tsa.stattools import adfuller\n",
        "\n",
        "def test_stationarity(timeseries):\n",
        "    print('Kết quả kiểm định Augmented Dickey-Fuller:')\n",
        "    dftest = adfuller(timeseries, autolag='AIC')\n",
        "    dfoutput = pd.Series(dftest[0:4], index=['Thống kê kiểm định','Giá trị p','#Độ trễ đã sử dụng','Số lượng quan sát đã sử dụng'])\n",
        "    for key,value in dftest[4].items():\n",
        "        dfoutput['Giá trị tới hạn (%s)'%key] = value\n",
        "    print(dfoutput)\n",
        "    if dftest[1] <= 0.05:\n",
        "        print(\"Chuỗi thời gian là dừng.\")\n",
        "    else:\n",
        "        print(\"Chuỗi thời gian không dừng. Thực hiện sai phân.\")\n",
        "        ts_close_diff = timeseries.diff().dropna()\n",
        "        print(\"\\nKết quả kiểm định Augmented Dickey-Fuller sau khi sai phân:\")\n",
        "        dftest_diff = adfuller(ts_close_diff, autolag='AIC')\n",
        "        dfoutput_diff = pd.Series(dftest_diff[0:4], index=['Thống kê kiểm định','Giá trị p','#Độ trễ đã sử dụng','Số lượng quan sát đã sử dụng'])\n",
        "        for key,value in dftest_diff[4].items():\n",
        "            dfoutput_diff['Giá trị tới hạn (%s)'%key] = value\n",
        "        print(dfoutput_diff)\n",
        "        if dftest_diff[1] <= 0.05:\n",
        "            print(\"Chuỗi thời gian đã sai phân là dừng.\")\n",
        "        else:\n",
        "            print(\"Chuỗi thời gian đã sai phân vẫn không dừng.\")\n",
        "        return ts_close_diff\n",
        "    return timeseries\n",
        "\n",
        "ts_close_stationary = test_stationarity(ts_close)"
      ],
      "execution_count": null,
      "outputs": [
        {
          "output_type": "stream",
          "name": "stdout",
          "text": [
            "Thiếu giá trị trước khi làm sạch dữ liệu:\n",
            "Date      0\n",
            "Open      0\n",
            "High      0\n",
            "Low       0\n",
            "Close     0\n",
            "Volume    0\n",
            "dtype: int64\n",
            "Kết quả kiểm định Augmented Dickey-Fuller:\n",
            "Thống kê kiểm định                -0.141992\n",
            "Giá trị p                          0.945092\n",
            "#Độ trễ đã sử dụng                13.000000\n",
            "Số lượng quan sát đã sử dụng    2075.000000\n",
            "Giá trị tới hạn (1%)              -3.433505\n",
            "Giá trị tới hạn (5%)              -2.862934\n",
            "Giá trị tới hạn (10%)             -2.567512\n",
            "dtype: float64\n",
            "Chuỗi thời gian không dừng. Thực hiện sai phân.\n",
            "\n",
            "Kết quả kiểm định Augmented Dickey-Fuller sau khi sai phân:\n",
            "Thống kê kiểm định             -1.173348e+01\n",
            "Giá trị p                       1.324563e-21\n",
            "#Độ trễ đã sử dụng              1.200000e+01\n",
            "Số lượng quan sát đã sử dụng    2.075000e+03\n",
            "Giá trị tới hạn (1%)           -3.433505e+00\n",
            "Giá trị tới hạn (5%)           -2.862934e+00\n",
            "Giá trị tới hạn (10%)          -2.567512e+00\n",
            "dtype: float64\n",
            "Chuỗi thời gian đã sai phân là dừng.\n"
          ]
        }
      ]
    },
    {
      "cell_type": "markdown",
      "metadata": {
        "id": "c98df2e9"
      },
      "source": [
        "## Xác định tham số arima (p, d, q)\n",
        "\n",
        "### Subtask:\n",
        "Sử dụng biểu đồ ACF và PACF để ước lượng các tham số p và q, và sử dụng các phương pháp tự động như `auto_arima` để tìm bộ tham số tối ưu.\n"
      ]
    },
    {
      "cell_type": "markdown",
      "metadata": {
        "id": "0135c04a"
      },
      "source": [
        "**Reasoning**:\n",
        "Plot the ACF and PACF of the stationary time series to estimate p and q, then use auto_arima to find the optimal parameters.\n",
        "\n"
      ]
    },
    {
      "cell_type": "code",
      "metadata": {
        "colab": {
          "base_uri": "https://localhost:8080/"
        },
        "id": "44GIC3f17zeD",
        "outputId": "9453f837-0fb6-4965-e67b-e2c9d67f227c"
      },
      "source": [
        "!pip install pmdarima"
      ],
      "execution_count": null,
      "outputs": [
        {
          "output_type": "stream",
          "name": "stdout",
          "text": [
            "Collecting pmdarima\n",
            "  Downloading pmdarima-2.0.4-cp312-cp312-manylinux_2_17_x86_64.manylinux2014_x86_64.manylinux_2_28_x86_64.whl.metadata (7.8 kB)\n",
            "Requirement already satisfied: joblib>=0.11 in /usr/local/lib/python3.12/dist-packages (from pmdarima) (1.5.2)\n",
            "Requirement already satisfied: Cython!=0.29.18,!=0.29.31,>=0.29 in /usr/local/lib/python3.12/dist-packages (from pmdarima) (3.0.12)\n",
            "Requirement already satisfied: numpy>=1.21.2 in /usr/local/lib/python3.12/dist-packages (from pmdarima) (2.0.2)\n",
            "Requirement already satisfied: pandas>=0.19 in /usr/local/lib/python3.12/dist-packages (from pmdarima) (2.2.2)\n",
            "Requirement already satisfied: scikit-learn>=0.22 in /usr/local/lib/python3.12/dist-packages (from pmdarima) (1.6.1)\n",
            "Requirement already satisfied: scipy>=1.3.2 in /usr/local/lib/python3.12/dist-packages (from pmdarima) (1.16.1)\n",
            "Requirement already satisfied: statsmodels>=0.13.2 in /usr/local/lib/python3.12/dist-packages (from pmdarima) (0.14.5)\n",
            "Requirement already satisfied: urllib3 in /usr/local/lib/python3.12/dist-packages (from pmdarima) (2.5.0)\n",
            "Requirement already satisfied: setuptools!=50.0.0,>=38.6.0 in /usr/local/lib/python3.12/dist-packages (from pmdarima) (75.2.0)\n",
            "Requirement already satisfied: packaging>=17.1 in /usr/local/lib/python3.12/dist-packages (from pmdarima) (25.0)\n",
            "Requirement already satisfied: python-dateutil>=2.8.2 in /usr/local/lib/python3.12/dist-packages (from pandas>=0.19->pmdarima) (2.9.0.post0)\n",
            "Requirement already satisfied: pytz>=2020.1 in /usr/local/lib/python3.12/dist-packages (from pandas>=0.19->pmdarima) (2025.2)\n",
            "Requirement already satisfied: tzdata>=2022.7 in /usr/local/lib/python3.12/dist-packages (from pandas>=0.19->pmdarima) (2025.2)\n",
            "Requirement already satisfied: threadpoolctl>=3.1.0 in /usr/local/lib/python3.12/dist-packages (from scikit-learn>=0.22->pmdarima) (3.6.0)\n",
            "Requirement already satisfied: patsy>=0.5.6 in /usr/local/lib/python3.12/dist-packages (from statsmodels>=0.13.2->pmdarima) (1.0.1)\n",
            "Requirement already satisfied: six>=1.5 in /usr/local/lib/python3.12/dist-packages (from python-dateutil>=2.8.2->pandas>=0.19->pmdarima) (1.17.0)\n",
            "Downloading pmdarima-2.0.4-cp312-cp312-manylinux_2_17_x86_64.manylinux2014_x86_64.manylinux_2_28_x86_64.whl (2.3 MB)\n",
            "\u001b[2K   \u001b[90m━━━━━━━━━━━━━━━━━━━━━━━━━━━━━━━━━━━━━━━━\u001b[0m \u001b[32m2.3/2.3 MB\u001b[0m \u001b[31m23.5 MB/s\u001b[0m eta \u001b[36m0:00:00\u001b[0m\n",
            "\u001b[?25hInstalling collected packages: pmdarima\n",
            "Successfully installed pmdarima-2.0.4\n",
            "^C\n"
          ]
        }
      ]
    },
    {
      "cell_type": "code",
      "metadata": {
        "colab": {
          "base_uri": "https://localhost:8080/",
          "height": 410
        },
        "id": "wwvM5s0X76hY",
        "outputId": "6e7c959c-54ec-4e2c-8328-e8a23fe1d2da"
      },
      "source": [
        "!pip install numpy==1.26.0"
      ],
      "execution_count": null,
      "outputs": [
        {
          "output_type": "stream",
          "name": "stdout",
          "text": [
            "Collecting numpy==1.26.0\n",
            "  Downloading numpy-1.26.0-cp312-cp312-manylinux_2_17_x86_64.manylinux2014_x86_64.whl.metadata (58 kB)\n",
            "\u001b[?25l     \u001b[90m━━━━━━━━━━━━━━━━━━━━━━━━━━━━━━━━━━━━━━━━\u001b[0m \u001b[32m0.0/58.5 kB\u001b[0m \u001b[31m?\u001b[0m eta \u001b[36m-:--:--\u001b[0m\r\u001b[2K     \u001b[90m━━━━━━━━━━━━━━━━━━━━━━━━━━━━━━━━━━━━━━━━\u001b[0m \u001b[32m58.5/58.5 kB\u001b[0m \u001b[31m2.2 MB/s\u001b[0m eta \u001b[36m0:00:00\u001b[0m\n",
            "\u001b[?25hDownloading numpy-1.26.0-cp312-cp312-manylinux_2_17_x86_64.manylinux2014_x86_64.whl (17.9 MB)\n",
            "\u001b[2K   \u001b[90m━━━━━━━━━━━━━━━━━━━━━━━━━━━━━━━━━━━━━━━━\u001b[0m \u001b[32m17.9/17.9 MB\u001b[0m \u001b[31m77.7 MB/s\u001b[0m eta \u001b[36m0:00:00\u001b[0m\n",
            "\u001b[?25hInstalling collected packages: numpy\n",
            "  Attempting uninstall: numpy\n",
            "    Found existing installation: numpy 2.0.2\n",
            "    Uninstalling numpy-2.0.2:\n",
            "      Successfully uninstalled numpy-2.0.2\n",
            "\u001b[31mERROR: pip's dependency resolver does not currently take into account all the packages that are installed. This behaviour is the source of the following dependency conflicts.\n",
            "thinc 8.3.6 requires numpy<3.0.0,>=2.0.0, but you have numpy 1.26.0 which is incompatible.\n",
            "opencv-python-headless 4.12.0.88 requires numpy<2.3.0,>=2; python_version >= \"3.9\", but you have numpy 1.26.0 which is incompatible.\n",
            "opencv-python 4.12.0.88 requires numpy<2.3.0,>=2; python_version >= \"3.9\", but you have numpy 1.26.0 which is incompatible.\n",
            "opencv-contrib-python 4.12.0.88 requires numpy<2.3.0,>=2; python_version >= \"3.9\", but you have numpy 1.26.0 which is incompatible.\u001b[0m\u001b[31m\n",
            "\u001b[0mSuccessfully installed numpy-1.26.0\n"
          ]
        },
        {
          "output_type": "display_data",
          "data": {
            "application/vnd.colab-display-data+json": {
              "pip_warning": {
                "packages": [
                  "numpy"
                ]
              },
              "id": "2c6cad3d405244dfa25d4955f83a3398"
            }
          },
          "metadata": {}
        }
      ]
    },
    {
      "cell_type": "code",
      "metadata": {
        "colab": {
          "base_uri": "https://localhost:8080/",
          "height": 1000
        },
        "id": "JEDmbacz8DP_",
        "outputId": "19bc061c-dab9-438d-d10e-0ddfa38b08b8"
      },
      "source": [
        "import pandas as pd\n",
        "from statsmodels.tsa.stattools import adfuller\n",
        "from statsmodels.graphics.tsaplots import plot_acf, plot_pacf\n",
        "import matplotlib.pyplot as plt\n",
        "from pmdarima.arima import auto_arima\n",
        "\n",
        "df['Date'] = pd.to_datetime(df['Date'])\n",
        "df = df.set_index('Date')\n",
        "ts_close = df['Close']\n",
        "\n",
        "def test_stationarity(timeseries):\n",
        "    print('Results of Augmented Dickey-Fuller Test:')\n",
        "    dftest = adfuller(timeseries, autolag='AIC')\n",
        "    dfoutput = pd.Series(dftest[0:4], index=['Test Statistic','p-value','#Lags Used','Number of Observations Used'])\n",
        "    for key,value in dftest[4].items():\n",
        "        dfoutput['Critical Value (%s)'%key] = value\n",
        "    print(dfoutput)\n",
        "    if dftest[1] <= 0.05:\n",
        "        print(\"The time series is stationary.\")\n",
        "    else:\n",
        "        print(\"The time series is not stationary. Performing differencing.\")\n",
        "        ts_close_diff = timeseries.diff().dropna()\n",
        "        print(\"\\nResults of Augmented Dickey-Fulle r Test after differencing:\")\n",
        "        dftest_diff = adfuller(ts_close_diff, autolag='AIC')\n",
        "        dfoutput_diff = pd.Series(dftest_diff[0:4], index=['Test Statistic','p-value','#Lags Used','Number of Observations Used'])\n",
        "        for key,value in dftest_diff[4].items():\n",
        "            dfoutput_diff['Critical Value (%s)'%key] = value\n",
        "        print(dfoutput_diff)\n",
        "        if dftest_diff[1] <= 0.05:\n",
        "            print(\"The differenced time series is stationary.\")\n",
        "        else:\n",
        "            print(\"The differenced time series is still not stationary.\")\n",
        "        return ts_close_diff\n",
        "    return timeseries\n",
        "\n",
        "ts_close_stationary = test_stationarity(ts_close)\n",
        "\n",
        "fig, axes = plt.subplots(2, 1, figsize=(10, 8))\n",
        "plot_acf(ts_close_stationary, ax=axes[0])\n",
        "plot_pacf(ts_close_stationary, ax=axes[1])\n",
        "plt.show()\n",
        "\n",
        "best_model = auto_arima(ts_close, stepwise=True, suppress_warnings=True)\n",
        "print(best_model.summary())"
      ],
      "execution_count": null,
      "outputs": [
        {
          "output_type": "stream",
          "name": "stdout",
          "text": [
            "Results of Augmented Dickey-Fuller Test:\n",
            "Test Statistic                   -0.141992\n",
            "p-value                           0.945092\n",
            "#Lags Used                       13.000000\n",
            "Number of Observations Used    2075.000000\n",
            "Critical Value (1%)              -3.433505\n",
            "Critical Value (5%)              -2.862934\n",
            "Critical Value (10%)             -2.567512\n",
            "dtype: float64\n",
            "The time series is not stationary. Performing differencing.\n",
            "\n",
            "Results of Augmented Dickey-Fulle r Test after differencing:\n",
            "Test Statistic                -1.173348e+01\n",
            "p-value                        1.324563e-21\n",
            "#Lags Used                     1.200000e+01\n",
            "Number of Observations Used    2.075000e+03\n",
            "Critical Value (1%)           -3.433505e+00\n",
            "Critical Value (5%)           -2.862934e+00\n",
            "Critical Value (10%)          -2.567512e+00\n",
            "dtype: float64\n",
            "The differenced time series is stationary.\n"
          ]
        },
        {
          "output_type": "display_data",
          "data": {
            "text/plain": [
              "<Figure size 1000x800 with 2 Axes>"
            ],
            "image/png": "[encoded data removed]"
          },
          "metadata": {}
        },
        {
          "output_type": "stream",
          "name": "stderr",
          "text": [
            "/usr/local/lib/python3.12/dist-packages/sklearn/utils/deprecation.py:151: FutureWarning: 'force_all_finite' was renamed to 'ensure_all_finite' in 1.6 and will be removed in 1.8.\n",
            "  warnings.warn(\n",
            "/usr/local/lib/python3.12/dist-packages/sklearn/utils/deprecation.py:151: FutureWarning: 'force_all_finite' was renamed to 'ensure_all_finite' in 1.6 and will be removed in 1.8.\n",
            "  warnings.warn(\n",
            "/usr/local/lib/python3.12/dist-packages/sklearn/utils/deprecation.py:151: FutureWarning: 'force_all_finite' was renamed to 'ensure_all_finite' in 1.6 and will be removed in 1.8.\n",
            "  warnings.warn(\n",
            "/usr/local/lib/python3.12/dist-packages/sklearn/utils/deprecation.py:151: FutureWarning: 'force_all_finite' was renamed to 'ensure_all_finite' in 1.6 and will be removed in 1.8.\n",
            "  warnings.warn(\n",
            "/usr/local/lib/python3.12/dist-packages/sklearn/utils/deprecation.py:151: FutureWarning: 'force_all_finite' was renamed to 'ensure_all_finite' in 1.6 and will be removed in 1.8.\n",
            "  warnings.warn(\n",
            "/usr/local/lib/python3.12/dist-packages/sklearn/utils/deprecation.py:151: FutureWarning: 'force_all_finite' was renamed to 'ensure_all_finite' in 1.6 and will be removed in 1.8.\n",
            "  warnings.warn(\n",
            "/usr/local/lib/python3.12/dist-packages/sklearn/utils/deprecation.py:151: FutureWarning: 'force_all_finite' was renamed to 'ensure_all_finite' in 1.6 and will be removed in 1.8.\n",
            "  warnings.warn(\n",
            "/usr/local/lib/python3.12/dist-packages/sklearn/utils/deprecation.py:151: FutureWarning: 'force_all_finite' was renamed to 'ensure_all_finite' in 1.6 and will be removed in 1.8.\n",
            "  warnings.warn(\n",
            "/usr/local/lib/python3.12/dist-packages/sklearn/utils/deprecation.py:151: FutureWarning: 'force_all_finite' was renamed to 'ensure_all_finite' in 1.6 and will be removed in 1.8.\n",
            "  warnings.warn(\n",
            "/usr/local/lib/python3.12/dist-packages/sklearn/utils/deprecation.py:151: FutureWarning: 'force_all_finite' was renamed to 'ensure_all_finite' in 1.6 and will be removed in 1.8.\n",
            "  warnings.warn(\n",
            "/usr/local/lib/python3.12/dist-packages/sklearn/utils/deprecation.py:151: FutureWarning: 'force_all_finite' was renamed to 'ensure_all_finite' in 1.6 and will be removed in 1.8.\n",
            "  warnings.warn(\n",
            "/usr/local/lib/python3.12/dist-packages/sklearn/utils/deprecation.py:151: FutureWarning: 'force_all_finite' was renamed to 'ensure_all_finite' in 1.6 and will be removed in 1.8.\n",
            "  warnings.warn(\n",
            "/usr/local/lib/python3.12/dist-packages/sklearn/utils/deprecation.py:151: FutureWarning: 'force_all_finite' was renamed to 'ensure_all_finite' in 1.6 and will be removed in 1.8.\n",
            "  warnings.warn(\n",
            "/usr/local/lib/python3.12/dist-packages/sklearn/utils/deprecation.py:151: FutureWarning: 'force_all_finite' was renamed to 'ensure_all_finite' in 1.6 and will be removed in 1.8.\n",
            "  warnings.warn(\n",
            "/usr/local/lib/python3.12/dist-packages/sklearn/utils/deprecation.py:151: FutureWarning: 'force_all_finite' was renamed to 'ensure_all_finite' in 1.6 and will be removed in 1.8.\n",
            "  warnings.warn(\n",
            "/usr/local/lib/python3.12/dist-packages/sklearn/utils/deprecation.py:151: FutureWarning: 'force_all_finite' was renamed to 'ensure_all_finite' in 1.6 and will be removed in 1.8.\n",
            "  warnings.warn(\n"
          ]
        },
        {
          "output_type": "stream",
          "name": "stdout",
          "text": [
            "                               SARIMAX Results                                \n",
            "==============================================================================\n",
            "Dep. Variable:                      y   No. Observations:                 2089\n",
            "Model:               SARIMAX(1, 1, 0)   Log Likelihood              -18147.926\n",
            "Date:                Fri, 19 Sep 2025   AIC                          36301.852\n",
            "Time:                        17:09:07   BIC                          36318.784\n",
            "Sample:                    01-01-2020   HQIC                         36308.055\n",
            "                         - 09-19-2025                                         \n",
            "Covariance Type:                  opg                                         \n",
            "==============================================================================\n",
            "                 coef    std err          z      P>|z|      [0.025      0.975]\n",
            "------------------------------------------------------------------------------\n",
            "intercept     55.9234     31.625      1.768      0.077      -6.060     117.907\n",
            "ar.L1         -0.0621      0.015     -4.097      0.000      -0.092      -0.032\n",
            "sigma2      2.075e+06   3.47e+04     59.767      0.000    2.01e+06    2.14e+06\n",
            "===================================================================================\n",
            "Ljung-Box (L1) (Q):                   0.00   Jarque-Bera (JB):              2092.19\n",
            "Prob(Q):                              0.98   Prob(JB):                         0.00\n",
            "Heteroskedasticity (H):               1.91   Skew:                             0.18\n",
            "Prob(H) (two-sided):                  0.00   Kurtosis:                         7.89\n",
            "===================================================================================\n",
            "\n",
            "Warnings:\n",
            "[1] Covariance matrix calculated using the outer product of gradients (complex-step).\n"
          ]
        },
        {
          "output_type": "stream",
          "name": "stderr",
          "text": [
            "/usr/local/lib/python3.12/dist-packages/sklearn/utils/deprecation.py:151: FutureWarning: 'force_all_finite' was renamed to 'ensure_all_finite' in 1.6 and will be removed in 1.8.\n",
            "  warnings.warn(\n"
          ]
        }
      ]
    },
    {
      "cell_type": "markdown",
      "metadata": {
        "id": "0ecd52d5"
      },
      "source": [
        "## Xây dựng và huấn luyện mô hình arima\n",
        "\n",
        "### Subtask:\n",
        "Xây dựng mô hình ARIMA với các tham số đã xác định và huấn luyện trên dữ liệu lịch sử.\n"
      ]
    },
    {
      "cell_type": "code",
      "metadata": {
        "colab": {
          "base_uri": "https://localhost:8080/"
        },
        "id": "d9f8f847",
        "outputId": "70c3654d-2b3f-47ca-d182-03317d0141f6"
      },
      "source": [
        "from statsmodels.tsa.arima.model import ARIMA\n",
        "\n",
        "train_size = int(len(ts_close) * 0.8)\n",
        "train_data, test_data = ts_close[0:train_size], ts_close[train_size:]\n",
        "\n",
        "model = ARIMA(train_data, order=(1, 1, 0))\n",
        "model_fit = model.fit()\n",
        "\n",
        "print(model_fit.summary())"
      ],
      "execution_count": null,
      "outputs": [
        {
          "output_type": "stream",
          "name": "stdout",
          "text": [
            "                               SARIMAX Results                                \n",
            "==============================================================================\n",
            "Dep. Variable:                  Close   No. Observations:                 1671\n",
            "Model:                 ARIMA(1, 1, 0)   Log Likelihood              -14253.624\n",
            "Date:                Fri, 19 Sep 2025   AIC                          28511.247\n",
            "Time:                        17:05:58   BIC                          28522.089\n",
            "Sample:                    01-01-2020   HQIC                         28515.264\n",
            "                         - 07-28-2024                                         \n",
            "Covariance Type:                  opg                                         \n",
            "==============================================================================\n",
            "                 coef    std err          z      P>|z|      [0.025      0.975]\n",
            "------------------------------------------------------------------------------\n",
            "ar.L1         -0.0535      0.017     -3.082      0.002      -0.087      -0.019\n",
            "sigma2      1.518e+06   2.72e+04     55.842      0.000    1.46e+06    1.57e+06\n",
            "===================================================================================\n",
            "Ljung-Box (L1) (Q):                   0.00   Jarque-Bera (JB):              2104.68\n",
            "Prob(Q):                              0.99   Prob(JB):                         0.00\n",
            "Heteroskedasticity (H):               0.87   Skew:                            -0.06\n",
            "Prob(H) (two-sided):                  0.10   Kurtosis:                         8.50\n",
            "===================================================================================\n",
            "\n",
            "Warnings:\n",
            "[1] Covariance matrix calculated using the outer product of gradients (complex-step).\n"
          ]
        },
        {
          "output_type": "stream",
          "name": "stderr",
          "text": [
            "/usr/local/lib/python3.12/dist-packages/statsmodels/tsa/base/tsa_model.py:473: ValueWarning: No frequency information was provided, so inferred frequency D will be used.\n",
            "  self._init_dates(dates, freq)\n",
            "/usr/local/lib/python3.12/dist-packages/statsmodels/tsa/base/tsa_model.py:473: ValueWarning: No frequency information was provided, so inferred frequency D will be used.\n",
            "  self._init_dates(dates, freq)\n",
            "/usr/local/lib/python3.12/dist-packages/statsmodels/tsa/base/tsa_model.py:473: ValueWarning: No frequency information was provided, so inferred frequency D will be used.\n",
            "  self._init_dates(dates, freq)\n"
          ]
        }
      ]
    },
    {
      "cell_type": "markdown",
      "metadata": {
        "id": "821d3b6f"
      },
      "source": [
        "## Đánh giá mô hình\n",
        "\n",
        "### Subtask:\n",
        "Đánh giá hiệu suất của mô hình ARIMA bằng các chỉ số phù hợp (ví dụ: RMSE, MAE) trên tập dữ liệu thử nghiệm.\n"
      ]
    },
    {
      "cell_type": "code",
      "metadata": {
        "colab": {
          "base_uri": "https://localhost:8080/"
        },
        "id": "cb3d1351",
        "outputId": "87f2eadc-0590-4240-a781-cdbd8dbc2616"
      },
      "source": [
        "from sklearn.metrics import mean_squared_error, mean_absolute_error\n",
        "import numpy as np\n",
        "\n",
        "predictions = model_fit.predict(start=len(train_data), end=len(ts_close)-1)\n",
        "\n",
        "rmse = np.sqrt(mean_squared_error(test_data, predictions))\n",
        "mae = mean_absolute_error(test_data, predictions)\n",
        "\n",
        "print(f'RMSE: {rmse}')\n",
        "print(f'MAE: {mae}')"
      ],
      "execution_count": null,
      "outputs": [
        {
          "output_type": "stream",
          "name": "stdout",
          "text": [
            "RMSE: 30071.63569356037\n",
            "MAE: 26063.619554242163\n"
          ]
        }
      ]
    },
    {
      "cell_type": "markdown",
      "metadata": {
        "id": "c44b2713"
      },
      "source": [
        "## Dự đoán và trực quan hóa\n",
        "\n",
        "Thực hiện dự đoán giá Bitcoin trong tương lai và trực quan hóa dữ liệu gốc, dữ liệu huấn luyện, dữ liệu thử nghiệm và kết quả dự đoán để so sánh.\n"
      ]
    },
    {
      "cell_type": "code",
      "metadata": {
        "colab": {
          "base_uri": "https://localhost:8080/",
          "height": 511
        },
        "id": "144127a5",
        "outputId": "4bf212dc-093c-4be6-a8f1-3e9d8320222c"
      },
      "source": [
        "import matplotlib.pyplot as plt\n",
        "\n",
        "# Get predictions for both training and testing data\n",
        "predictions_train = model_fit.predict(start=0, end=len(train_data)-1)\n",
        "predictions_test = model_fit.predict(start=len(train_data), end=len(ts_close)-1)\n",
        "\n",
        "plt.figure(figsize=(12, 6))\n",
        "plt.plot(ts_close, label='Original Data', color='blue')\n",
        "plt.plot(train_data, label='Training Data', color='green')\n",
        "plt.plot(test_data, label='Test Data', color='red')\n",
        "plt.plot(predictions_train, label='ARIMA Predictions (Train)', color='orange', linestyle='--')\n",
        "plt.plot(predictions_test, label='ARIMA Predictions (Test)', color='purple', linestyle='--')\n",
        "plt.title('Bitcoin Price Prediction using ARIMA')\n",
        "plt.xlabel('Date')\n",
        "plt.ylabel('Price')\n",
        "plt.legend()\n",
        "plt.show()"
      ],
      "execution_count": null,
      "outputs": [
        {
          "output_type": "display_data",
          "data": {
            "text/plain": [
              "<Figure size 1200x600 with 1 Axes>"
            ],
            "image/png": "[encoded data removed]"
          },
          "metadata": {}
        }
      ]
    },
    {
      "cell_type": "markdown",
      "metadata": {
        "id": "ddb99eee"
      },
      "source": [
        "## Tóm tắt kết quả phân tích và dự đoán\n",
        "\n",
        "### Kết quả phân tích dữ liệu chính\n",
        "\n",
        "*   Tập dữ liệu ban đầu không có giá trị thiếu, đảm bảo dữ liệu đầu vào sạch sẽ.\n",
        "*   Chuỗi thời gian giá đóng cửa Bitcoin ban đầu không dừng, được xác nhận bằng kiểm định Augmented Dickey-Fuller với p-value lớn hơn 0.05.\n",
        "*   Sau khi thực hiện sai phân bậc 1 (lấy hiệu giữa các giá trị liên tiếp), chuỗi thời gian đã trở nên dừng, với p-value của kiểm định ADF nhỏ hơn hoặc bằng 0.05.\n",
        "*   Hàm `auto_arima` đã tự động tìm kiếm và xác định bộ tham số tối ưu cho mô hình ARIMA là (1, 1, 0), cho thấy mô hình AR(1) sau khi sai phân bậc 1 là phù hợp nhất dựa trên các tiêu chí thông tin.\n",
        "*   Mô hình ARIMA(1, 1, 0) đã được huấn luyện thành công trên dữ liệu lịch sử, với hệ số AR(1) có ý nghĩa thống kê (p-value rất nhỏ).\n",
        "*   Đánh giá hiệu suất của mô hình trên tập dữ liệu kiểm thử cho kết quả sai số khá cao: RMSE (Sai số trung bình gốc bình phương) xấp xỉ 30071.64 và MAE (Sai số tuyệt đối trung bình) xấp xỉ 26063.62. Điều này cho thấy mô hình có sự chênh lệch đáng kể so với giá thực tế.\n",
        "*   Biểu đồ trực quan hóa cho thấy đường dự đoán của mô hình ARIMA theo sát xu hướng chung của dữ liệu thực tế trong tập kiểm thử nhưng không bắt được các biến động mạnh và có sự sai khác rõ rệt, giải thích cho các chỉ số RMSE và MAE cao. Trên dữ liệu huấn luyện, mô hình cũng cho thấy sự bám sát tương đối nhưng không hoàn hảo.\n",
        "\n",
        "### Nhận xét và các bước tiếp theo\n",
        "\n",
        "*   Mô hình ARIMA(1, 1, 0) đã cung cấp một mô hình cơ sở để dự đoán giá Bitcoin. Tuy nhiên, các chỉ số hiệu suất (RMSE, MAE) cho thấy mô hình này còn nhiều hạn chế trong việc dự đoán giá Bitcoin, vốn là một chuỗi thời gian có tính biến động và phi tuyến tính cao.\n",
        "*   Hiệu quả chưa cao của ARIMA là động lực để chúng ta xem xét các mô hình khác. Bước tiếp theo quan trọng là xây dựng và đánh giá mô hình LSTM (Long Short-Term Memory), một loại mạng nơ-ron hồi quy có khả năng xử lý tốt các chuỗi thời gian phức tạp và phi tuyến tính.\n",
        "*   Chúng ta sẽ so sánh các chỉ số hiệu suất (RMSE, MAE, v.v.) và khả năng trực quan hóa dự đoán của mô hình LSTM với mô hình ARIMA này để xác định mô hình nào phù hợp hơn cho nhiệm vụ dự đoán giá Bitcoin. Sau đó, có thể khám phá các mô hình hoặc kỹ thuật nâng cao hơn nếu cần."
      ]
    }
  ]
}